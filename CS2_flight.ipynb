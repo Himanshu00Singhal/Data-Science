{
  "nbformat": 4,
  "nbformat_minor": 0,
  "metadata": {
    "colab": {
      "provenance": []
    },
    "kernelspec": {
      "name": "python3",
      "display_name": "Python 3"
    },
    "language_info": {
      "name": "python"
    }
  },
  "cells": [
    {
      "cell_type": "code",
      "execution_count": 18,
      "metadata": {
        "id": "z0eVHaabx8EJ"
      },
      "outputs": [],
      "source": [
        "import pandas as pd\n",
        "\n",
        "#Given\n",
        "cust_data = {'cust_id':['A123', 'A456', 'A789'],\n",
        "             'ticket_id':['9342312', '6542312', '7542312'],\n",
        "             'first_cust_port':['Delhi', 'Delhi', 'Delhi'],\n",
        "             'last_cust_port' : ['Mumbai', 'Mumbai', 'Mumbai'],\n",
        "             'cust_start':[815, 830, 845],\n",
        "             'cust_end':[1730, 1015, 1330]}\n",
        "\n",
        "\n",
        "df1 = pd.DataFrame(cust_data)\n",
        "\n",
        "flight_data = {'flight_no':['B99', 'B89', 'B69','B79', 'B59', 'B49', 'B39'],\n",
        "             'date':['04042014', '04042014', '04042014','04042014', '04042014', '04042014', '04042014'],\n",
        "             'orig_port':['Delhi', 'Delhi', 'Jaipur', 'Delhi', 'Agra', 'Surat', 'Pune' ],\n",
        "             'dest_port' : ['Mumbai', 'Jaipur', 'Mumbai','Agra', 'Surat', 'Pune' ,'Mumbai'],\n",
        "             'flight_start':[830, 845, 1130, 815, 1230, 1445, 1615],\n",
        "             'flight_end':[1015, 1045, 1330, 1130, 1430, 1530,1730]}\n",
        "\n",
        "df2 = pd.DataFrame(flight_data)"
      ]
    },
    {
      "cell_type": "code",
      "source": [
        "# output Querry\n",
        "flight_row1, flight_row2, flightseq = [],[],[]\n",
        "for i in range(len(df1)) :\n",
        "    start = df1.loc[i, \"cust_start\"]\n",
        "    end = df1.loc[i, \"cust_end\"]\n",
        "   # print(start)\n",
        "    flight_row1.append(df2[df2['flight_start'] == start].index.values[0])\n",
        "    flight_row2.append(df2[df2['flight_end'] == end].index.values[0])\n",
        "for j in range(len(df1)):\n",
        "    flightseq.append(df2['flight_no'].loc[flight_row1[j]:flight_row2[j]].tolist())\n",
        "\n",
        "df1['flight_seq'] = flightseq # Combining with customer data table"
      ],
      "metadata": {
        "id": "b44GsX5jx9io"
      },
      "execution_count": 19,
      "outputs": []
    },
    {
      "cell_type": "code",
      "source": [
        "#Result\n",
        "print(df1)"
      ],
      "metadata": {
        "colab": {
          "base_uri": "https://localhost:8080/"
        },
        "id": "B6JmlfW50H8A",
        "outputId": "f8d7b347-5102-4580-f924-8aea460cf08b"
      },
      "execution_count": 20,
      "outputs": [
        {
          "output_type": "stream",
          "name": "stdout",
          "text": [
            "  cust_id ticket_id first_cust_port last_cust_port  cust_start  cust_end  \\\n",
            "0    A123   9342312           Delhi         Mumbai         815      1730   \n",
            "1    A456   6542312           Delhi         Mumbai         830      1015   \n",
            "2    A789   7542312           Delhi         Mumbai         845      1330   \n",
            "\n",
            "             flight_seq  \n",
            "0  [B79, B59, B49, B39]  \n",
            "1                 [B99]  \n",
            "2            [B89, B69]  \n"
          ]
        }
      ]
    },
    {
      "cell_type": "code",
      "source": [],
      "metadata": {
        "id": "GCGjQPc37BxM"
      },
      "execution_count": null,
      "outputs": []
    }
  ]
}