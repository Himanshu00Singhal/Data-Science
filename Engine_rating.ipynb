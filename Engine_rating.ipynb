{
 "cells": [
  {
   "cell_type": "code",
   "execution_count": 55,
   "metadata": {},
   "outputs": [],
   "source": [
    "import pandas as pd\n",
    "import numpy as np\n",
    "import matplotlib.pyplot as plt\n",
    "from sklearn.preprocessing import LabelEncoder, MinMaxScaler\n",
    "%matplotlib inline\n",
    "import warnings\n",
    "warnings.simplefilter(action='ignore')\n",
    "import seaborn as sns\n",
    "\n",
    "from sklearn.model_selection import train_test_split, RandomizedSearchCV, KFold\n",
    "from sklearn.linear_model import LinearRegression\n",
    "from sklearn.neighbors import KNeighborsRegressor\n",
    "from sklearn.tree import DecisionTreeRegressor\n",
    "from sklearn.ensemble import RandomForestRegressor\n",
    "from xgboost import XGBRegressor\n",
    "from sklearn.metrics import confusion_matrix, accuracy_score, classification_report\n",
    "import pickle\n",
    "from sklearn.metrics import r2_score, mean_absolute_error,mean_squared_error"
   ]
  },
  {
   "cell_type": "code",
   "execution_count": 56,
   "metadata": {},
   "outputs": [],
   "source": [
    "# Fields_Summary\n",
    "Fields_Summary = pd.read_excel(r'C:\\Users\\himanshu.singhal\\Downloads\\Himanshu_singhal\\data.xlsx', sheet_name = 0)\n",
    "\n",
    "# Cars Data\n",
    "data = pd.read_excel(r'C:\\Users\\himanshu.singhal\\Downloads\\Himanshu_singhal\\data.xlsx', sheet_name = 1)"
   ]
  },
  {
   "cell_type": "code",
   "execution_count": 57,
   "metadata": {},
   "outputs": [
    {
     "data": {
      "text/html": [
       "<div>\n",
       "<style scoped>\n",
       "    .dataframe tbody tr th:only-of-type {\n",
       "        vertical-align: middle;\n",
       "    }\n",
       "\n",
       "    .dataframe tbody tr th {\n",
       "        vertical-align: top;\n",
       "    }\n",
       "\n",
       "    .dataframe thead th {\n",
       "        text-align: right;\n",
       "    }\n",
       "</style>\n",
       "<table border=\"1\" class=\"dataframe\">\n",
       "  <thead>\n",
       "    <tr style=\"text-align: right;\">\n",
       "      <th></th>\n",
       "      <th>Columns</th>\n",
       "      <th>Description</th>\n",
       "      <th>Variable</th>\n",
       "    </tr>\n",
       "  </thead>\n",
       "  <tbody>\n",
       "    <tr>\n",
       "      <th>0</th>\n",
       "      <td>appointmentId</td>\n",
       "      <td>Unique id</td>\n",
       "      <td>Independent</td>\n",
       "    </tr>\n",
       "    <tr>\n",
       "      <th>1</th>\n",
       "      <td>inspectionStartTime</td>\n",
       "      <td>inspection date</td>\n",
       "      <td>Independent</td>\n",
       "    </tr>\n",
       "    <tr>\n",
       "      <th>2</th>\n",
       "      <td>year</td>\n",
       "      <td>registration year</td>\n",
       "      <td>Independent</td>\n",
       "    </tr>\n",
       "    <tr>\n",
       "      <th>3</th>\n",
       "      <td>month</td>\n",
       "      <td>registration month</td>\n",
       "      <td>Independent</td>\n",
       "    </tr>\n",
       "    <tr>\n",
       "      <th>4</th>\n",
       "      <td>engineTransmission_battery_value</td>\n",
       "      <td>condition ok: yes\\nelse : no</td>\n",
       "      <td>Independent</td>\n",
       "    </tr>\n",
       "  </tbody>\n",
       "</table>\n",
       "</div>"
      ],
      "text/plain": [
       "                            Columns                   Description     Variable\n",
       "0                     appointmentId                     Unique id  Independent\n",
       "1               inspectionStartTime               inspection date  Independent\n",
       "2                              year             registration year  Independent\n",
       "3                             month            registration month  Independent\n",
       "4  engineTransmission_battery_value  condition ok: yes\\nelse : no  Independent"
      ]
     },
     "execution_count": 57,
     "metadata": {},
     "output_type": "execute_result"
    }
   ],
   "source": [
    "Fields_Summary.head()"
   ]
  },
  {
   "cell_type": "code",
   "execution_count": 58,
   "metadata": {},
   "outputs": [
    {
     "data": {
      "text/html": [
       "<div>\n",
       "<style scoped>\n",
       "    .dataframe tbody tr th:only-of-type {\n",
       "        vertical-align: middle;\n",
       "    }\n",
       "\n",
       "    .dataframe tbody tr th {\n",
       "        vertical-align: top;\n",
       "    }\n",
       "\n",
       "    .dataframe thead th {\n",
       "        text-align: right;\n",
       "    }\n",
       "</style>\n",
       "<table border=\"1\" class=\"dataframe\">\n",
       "  <thead>\n",
       "    <tr style=\"text-align: right;\">\n",
       "      <th></th>\n",
       "      <th>appointmentId</th>\n",
       "      <th>inspectionStartTime</th>\n",
       "      <th>year</th>\n",
       "      <th>month</th>\n",
       "      <th>engineTransmission_battery_value</th>\n",
       "      <th>engineTransmission_battery_cc_value_0</th>\n",
       "      <th>engineTransmission_battery_cc_value_1</th>\n",
       "      <th>engineTransmission_battery_cc_value_2</th>\n",
       "      <th>engineTransmission_battery_cc_value_3</th>\n",
       "      <th>engineTransmission_battery_cc_value_4</th>\n",
       "      <th>...</th>\n",
       "      <th>engineTransmission_gearShifting_cc_value_1</th>\n",
       "      <th>engineTransmission_gearShifting_cc_value_2</th>\n",
       "      <th>engineTransmission_comments_value_0</th>\n",
       "      <th>engineTransmission_comments_value_1</th>\n",
       "      <th>engineTransmission_comments_value_2</th>\n",
       "      <th>engineTransmission_comments_value_3</th>\n",
       "      <th>engineTransmission_comments_value_4</th>\n",
       "      <th>fuel_type</th>\n",
       "      <th>odometer_reading</th>\n",
       "      <th>rating_engineTransmission</th>\n",
       "    </tr>\n",
       "  </thead>\n",
       "  <tbody>\n",
       "    <tr>\n",
       "      <th>0</th>\n",
       "      <td>aj_01</td>\n",
       "      <td>2019-02-03 15:43:48</td>\n",
       "      <td>2008</td>\n",
       "      <td>8</td>\n",
       "      <td>No</td>\n",
       "      <td>Weak</td>\n",
       "      <td>NaN</td>\n",
       "      <td>NaN</td>\n",
       "      <td>NaN</td>\n",
       "      <td>NaN</td>\n",
       "      <td>...</td>\n",
       "      <td>NaN</td>\n",
       "      <td>NaN</td>\n",
       "      <td>Pickup Low</td>\n",
       "      <td>Starter Motor / Solenoid malfunctioning</td>\n",
       "      <td>NaN</td>\n",
       "      <td>NaN</td>\n",
       "      <td>NaN</td>\n",
       "      <td>Petrol + CNG</td>\n",
       "      <td>124600</td>\n",
       "      <td>3.0</td>\n",
       "    </tr>\n",
       "    <tr>\n",
       "      <th>1</th>\n",
       "      <td>aj_02</td>\n",
       "      <td>2019-01-16 13:02:12</td>\n",
       "      <td>2007</td>\n",
       "      <td>5</td>\n",
       "      <td>Yes</td>\n",
       "      <td>NaN</td>\n",
       "      <td>NaN</td>\n",
       "      <td>NaN</td>\n",
       "      <td>NaN</td>\n",
       "      <td>NaN</td>\n",
       "      <td>...</td>\n",
       "      <td>NaN</td>\n",
       "      <td>NaN</td>\n",
       "      <td>NaN</td>\n",
       "      <td>NaN</td>\n",
       "      <td>NaN</td>\n",
       "      <td>NaN</td>\n",
       "      <td>NaN</td>\n",
       "      <td>Petrol + CNG</td>\n",
       "      <td>78108</td>\n",
       "      <td>4.0</td>\n",
       "    </tr>\n",
       "    <tr>\n",
       "      <th>2</th>\n",
       "      <td>aj_03</td>\n",
       "      <td>2019-02-09 13:31:04</td>\n",
       "      <td>2012</td>\n",
       "      <td>5</td>\n",
       "      <td>Yes</td>\n",
       "      <td>NaN</td>\n",
       "      <td>NaN</td>\n",
       "      <td>NaN</td>\n",
       "      <td>NaN</td>\n",
       "      <td>NaN</td>\n",
       "      <td>...</td>\n",
       "      <td>NaN</td>\n",
       "      <td>NaN</td>\n",
       "      <td>NaN</td>\n",
       "      <td>NaN</td>\n",
       "      <td>NaN</td>\n",
       "      <td>NaN</td>\n",
       "      <td>NaN</td>\n",
       "      <td>Diesel</td>\n",
       "      <td>93348</td>\n",
       "      <td>3.5</td>\n",
       "    </tr>\n",
       "    <tr>\n",
       "      <th>3</th>\n",
       "      <td>aj_04</td>\n",
       "      <td>2019-01-18 11:02:53</td>\n",
       "      <td>2013</td>\n",
       "      <td>1</td>\n",
       "      <td>Yes</td>\n",
       "      <td>NaN</td>\n",
       "      <td>NaN</td>\n",
       "      <td>NaN</td>\n",
       "      <td>NaN</td>\n",
       "      <td>NaN</td>\n",
       "      <td>...</td>\n",
       "      <td>NaN</td>\n",
       "      <td>NaN</td>\n",
       "      <td>NaN</td>\n",
       "      <td>NaN</td>\n",
       "      <td>NaN</td>\n",
       "      <td>NaN</td>\n",
       "      <td>NaN</td>\n",
       "      <td>Petrol + CNG</td>\n",
       "      <td>48233</td>\n",
       "      <td>3.5</td>\n",
       "    </tr>\n",
       "    <tr>\n",
       "      <th>4</th>\n",
       "      <td>aj_05</td>\n",
       "      <td>2019-01-27 12:12:06</td>\n",
       "      <td>2011</td>\n",
       "      <td>7</td>\n",
       "      <td>Yes</td>\n",
       "      <td>NaN</td>\n",
       "      <td>NaN</td>\n",
       "      <td>NaN</td>\n",
       "      <td>NaN</td>\n",
       "      <td>NaN</td>\n",
       "      <td>...</td>\n",
       "      <td>NaN</td>\n",
       "      <td>NaN</td>\n",
       "      <td>NaN</td>\n",
       "      <td>NaN</td>\n",
       "      <td>NaN</td>\n",
       "      <td>NaN</td>\n",
       "      <td>NaN</td>\n",
       "      <td>Petrol + CNG</td>\n",
       "      <td>74368</td>\n",
       "      <td>4.0</td>\n",
       "    </tr>\n",
       "  </tbody>\n",
       "</table>\n",
       "<p>5 rows × 73 columns</p>\n",
       "</div>"
      ],
      "text/plain": [
       "  appointmentId inspectionStartTime  year  month  \\\n",
       "0         aj_01 2019-02-03 15:43:48  2008      8   \n",
       "1         aj_02 2019-01-16 13:02:12  2007      5   \n",
       "2         aj_03 2019-02-09 13:31:04  2012      5   \n",
       "3         aj_04 2019-01-18 11:02:53  2013      1   \n",
       "4         aj_05 2019-01-27 12:12:06  2011      7   \n",
       "\n",
       "  engineTransmission_battery_value engineTransmission_battery_cc_value_0  \\\n",
       "0                               No                                  Weak   \n",
       "1                              Yes                                   NaN   \n",
       "2                              Yes                                   NaN   \n",
       "3                              Yes                                   NaN   \n",
       "4                              Yes                                   NaN   \n",
       "\n",
       "  engineTransmission_battery_cc_value_1 engineTransmission_battery_cc_value_2  \\\n",
       "0                                   NaN                                   NaN   \n",
       "1                                   NaN                                   NaN   \n",
       "2                                   NaN                                   NaN   \n",
       "3                                   NaN                                   NaN   \n",
       "4                                   NaN                                   NaN   \n",
       "\n",
       "  engineTransmission_battery_cc_value_3 engineTransmission_battery_cc_value_4  \\\n",
       "0                                   NaN                                   NaN   \n",
       "1                                   NaN                                   NaN   \n",
       "2                                   NaN                                   NaN   \n",
       "3                                   NaN                                   NaN   \n",
       "4                                   NaN                                   NaN   \n",
       "\n",
       "   ... engineTransmission_gearShifting_cc_value_1  \\\n",
       "0  ...                                        NaN   \n",
       "1  ...                                        NaN   \n",
       "2  ...                                        NaN   \n",
       "3  ...                                        NaN   \n",
       "4  ...                                        NaN   \n",
       "\n",
       "  engineTransmission_gearShifting_cc_value_2  \\\n",
       "0                                        NaN   \n",
       "1                                        NaN   \n",
       "2                                        NaN   \n",
       "3                                        NaN   \n",
       "4                                        NaN   \n",
       "\n",
       "  engineTransmission_comments_value_0  \\\n",
       "0                          Pickup Low   \n",
       "1                                 NaN   \n",
       "2                                 NaN   \n",
       "3                                 NaN   \n",
       "4                                 NaN   \n",
       "\n",
       "       engineTransmission_comments_value_1  \\\n",
       "0  Starter Motor / Solenoid malfunctioning   \n",
       "1                                      NaN   \n",
       "2                                      NaN   \n",
       "3                                      NaN   \n",
       "4                                      NaN   \n",
       "\n",
       "  engineTransmission_comments_value_2 engineTransmission_comments_value_3  \\\n",
       "0                                 NaN                                 NaN   \n",
       "1                                 NaN                                 NaN   \n",
       "2                                 NaN                                 NaN   \n",
       "3                                 NaN                                 NaN   \n",
       "4                                 NaN                                 NaN   \n",
       "\n",
       "  engineTransmission_comments_value_4     fuel_type odometer_reading  \\\n",
       "0                                 NaN  Petrol + CNG           124600   \n",
       "1                                 NaN  Petrol + CNG            78108   \n",
       "2                                 NaN        Diesel            93348   \n",
       "3                                 NaN  Petrol + CNG            48233   \n",
       "4                                 NaN  Petrol + CNG            74368   \n",
       "\n",
       "  rating_engineTransmission  \n",
       "0                       3.0  \n",
       "1                       4.0  \n",
       "2                       3.5  \n",
       "3                       3.5  \n",
       "4                       4.0  \n",
       "\n",
       "[5 rows x 73 columns]"
      ]
     },
     "execution_count": 58,
     "metadata": {},
     "output_type": "execute_result"
    }
   ],
   "source": [
    "data.head()"
   ]
  },
  {
   "cell_type": "markdown",
   "metadata": {},
   "source": [
    "### Set hypothesis"
   ]
  },
  {
   "cell_type": "markdown",
   "metadata": {},
   "source": [
    "- lest say hypothesis\n",
    "- From the Fields_Summary, it seems that null values have to be imputed as \"yes\" in most of columns."
   ]
  },
  {
   "cell_type": "code",
   "execution_count": 59,
   "metadata": {},
   "outputs": [
    {
     "name": "stdout",
     "output_type": "stream",
     "text": [
      "Total number of columns which has more than 40% null values in it: 52\n"
     ]
    },
    {
     "data": {
      "text/plain": [
       "{'engineTransmission_battery_cc_value_0',\n",
       " 'engineTransmission_battery_cc_value_1',\n",
       " 'engineTransmission_battery_cc_value_2',\n",
       " 'engineTransmission_battery_cc_value_3',\n",
       " 'engineTransmission_battery_cc_value_4',\n",
       " 'engineTransmission_clutch_cc_value_0',\n",
       " 'engineTransmission_clutch_cc_value_1',\n",
       " 'engineTransmission_clutch_cc_value_2',\n",
       " 'engineTransmission_clutch_cc_value_3',\n",
       " 'engineTransmission_clutch_cc_value_4',\n",
       " 'engineTransmission_clutch_cc_value_5',\n",
       " 'engineTransmission_clutch_cc_value_6',\n",
       " 'engineTransmission_coolant_cc_value_0',\n",
       " 'engineTransmission_coolant_cc_value_1',\n",
       " 'engineTransmission_coolant_cc_value_2',\n",
       " 'engineTransmission_coolant_cc_value_3',\n",
       " 'engineTransmission_engineMounting_cc_value_0',\n",
       " 'engineTransmission_engineOilLevelDipstick_cc_value_0',\n",
       " 'engineTransmission_engineOil_cc_value_1',\n",
       " 'engineTransmission_engineOil_cc_value_2',\n",
       " 'engineTransmission_engineOil_cc_value_3',\n",
       " 'engineTransmission_engineOil_cc_value_4',\n",
       " 'engineTransmission_engineOil_cc_value_5',\n",
       " 'engineTransmission_engineOil_cc_value_6',\n",
       " 'engineTransmission_engineOil_cc_value_7',\n",
       " 'engineTransmission_engineOil_cc_value_8',\n",
       " 'engineTransmission_engineOil_cc_value_9',\n",
       " 'engineTransmission_engineSound_cc_value_1',\n",
       " 'engineTransmission_engineSound_cc_value_2',\n",
       " 'engineTransmission_engineSound_cc_value_3',\n",
       " 'engineTransmission_engineSound_cc_value_4',\n",
       " 'engineTransmission_engineSound_cc_value_5',\n",
       " 'engineTransmission_engine_cc_value_0',\n",
       " 'engineTransmission_engine_cc_value_1',\n",
       " 'engineTransmission_engine_cc_value_10',\n",
       " 'engineTransmission_engine_cc_value_2',\n",
       " 'engineTransmission_engine_cc_value_3',\n",
       " 'engineTransmission_engine_cc_value_4',\n",
       " 'engineTransmission_engine_cc_value_5',\n",
       " 'engineTransmission_engine_cc_value_6',\n",
       " 'engineTransmission_engine_cc_value_7',\n",
       " 'engineTransmission_engine_cc_value_8',\n",
       " 'engineTransmission_engine_cc_value_9',\n",
       " 'engineTransmission_exhaustSmoke_cc_value_0',\n",
       " 'engineTransmission_gearShifting_cc_value_0',\n",
       " 'engineTransmission_gearShifting_cc_value_1',\n",
       " 'engineTransmission_gearShifting_cc_value_2'}"
      ]
     },
     "execution_count": 59,
     "metadata": {},
     "output_type": "execute_result"
    }
   ],
   "source": [
    "# Checking the above hypothesis\n",
    "# Extracting the variables having more than 40% null values\n",
    "null_values  = data.columns[data.isnull().sum() * 100 / data.shape[0] > 40]\n",
    "print(\"Total number of columns which has more than 40% null values in it: {}\".format(len(null_values)))\n",
    "\n",
    "set_A = set(Fields_Summary[Fields_Summary['Description'] == \"current condition if not yes\"]['Columns'])\n",
    "set_B = set(null_values)\n",
    "\n",
    "# Performing an intersection of both the sets\n",
    "set_A.intersection(set_B)"
   ]
  },
  {
   "cell_type": "code",
   "execution_count": 60,
   "metadata": {},
   "outputs": [
    {
     "data": {
      "text/plain": [
       "47"
      ]
     },
     "execution_count": 60,
     "metadata": {},
     "output_type": "execute_result"
    }
   ],
   "source": [
    "len(set_A.intersection(set_B))"
   ]
  },
  {
   "cell_type": "markdown",
   "metadata": {},
   "source": [
    "- 47 out of 53 variables have a description of \"current condition if not yes\"\n",
    "- hance we can conclude that our hypothesis is true, out of 52 columns 47 column has yes as defult value so we fill the null value of all 47 columns as yes.\n",
    "- lest check other 4 columes those has null value but condtion is other then current \"condition if not yes\""
   ]
  },
  {
   "cell_type": "code",
   "execution_count": 61,
   "metadata": {},
   "outputs": [
    {
     "data": {
      "text/html": [
       "<div>\n",
       "<style scoped>\n",
       "    .dataframe tbody tr th:only-of-type {\n",
       "        vertical-align: middle;\n",
       "    }\n",
       "\n",
       "    .dataframe tbody tr th {\n",
       "        vertical-align: top;\n",
       "    }\n",
       "\n",
       "    .dataframe thead th {\n",
       "        text-align: right;\n",
       "    }\n",
       "</style>\n",
       "<table border=\"1\" class=\"dataframe\">\n",
       "  <thead>\n",
       "    <tr style=\"text-align: right;\">\n",
       "      <th></th>\n",
       "      <th>engineTransmission_comments_value_0</th>\n",
       "      <th>engineTransmission_comments_value_1</th>\n",
       "      <th>engineTransmission_comments_value_2</th>\n",
       "      <th>engineTransmission_comments_value_3</th>\n",
       "      <th>engineTransmission_comments_value_4</th>\n",
       "    </tr>\n",
       "  </thead>\n",
       "  <tbody>\n",
       "    <tr>\n",
       "      <th>0</th>\n",
       "      <td>Pickup Low</td>\n",
       "      <td>Starter Motor / Solenoid malfunctioning</td>\n",
       "      <td>NaN</td>\n",
       "      <td>NaN</td>\n",
       "      <td>NaN</td>\n",
       "    </tr>\n",
       "    <tr>\n",
       "      <th>1</th>\n",
       "      <td>NaN</td>\n",
       "      <td>NaN</td>\n",
       "      <td>NaN</td>\n",
       "      <td>NaN</td>\n",
       "      <td>NaN</td>\n",
       "    </tr>\n",
       "    <tr>\n",
       "      <th>2</th>\n",
       "      <td>NaN</td>\n",
       "      <td>NaN</td>\n",
       "      <td>NaN</td>\n",
       "      <td>NaN</td>\n",
       "      <td>NaN</td>\n",
       "    </tr>\n",
       "    <tr>\n",
       "      <th>3</th>\n",
       "      <td>NaN</td>\n",
       "      <td>NaN</td>\n",
       "      <td>NaN</td>\n",
       "      <td>NaN</td>\n",
       "      <td>NaN</td>\n",
       "    </tr>\n",
       "    <tr>\n",
       "      <th>4</th>\n",
       "      <td>NaN</td>\n",
       "      <td>NaN</td>\n",
       "      <td>NaN</td>\n",
       "      <td>NaN</td>\n",
       "      <td>NaN</td>\n",
       "    </tr>\n",
       "    <tr>\n",
       "      <th>...</th>\n",
       "      <td>...</td>\n",
       "      <td>...</td>\n",
       "      <td>...</td>\n",
       "      <td>...</td>\n",
       "      <td>...</td>\n",
       "    </tr>\n",
       "    <tr>\n",
       "      <th>26302</th>\n",
       "      <td>Electrical wiring Damaged</td>\n",
       "      <td>NaN</td>\n",
       "      <td>NaN</td>\n",
       "      <td>NaN</td>\n",
       "      <td>NaN</td>\n",
       "    </tr>\n",
       "    <tr>\n",
       "      <th>26303</th>\n",
       "      <td>NaN</td>\n",
       "      <td>NaN</td>\n",
       "      <td>NaN</td>\n",
       "      <td>NaN</td>\n",
       "      <td>NaN</td>\n",
       "    </tr>\n",
       "    <tr>\n",
       "      <th>26304</th>\n",
       "      <td>NaN</td>\n",
       "      <td>NaN</td>\n",
       "      <td>NaN</td>\n",
       "      <td>NaN</td>\n",
       "      <td>NaN</td>\n",
       "    </tr>\n",
       "    <tr>\n",
       "      <th>26305</th>\n",
       "      <td>NaN</td>\n",
       "      <td>NaN</td>\n",
       "      <td>NaN</td>\n",
       "      <td>NaN</td>\n",
       "      <td>NaN</td>\n",
       "    </tr>\n",
       "    <tr>\n",
       "      <th>26306</th>\n",
       "      <td>NaN</td>\n",
       "      <td>NaN</td>\n",
       "      <td>NaN</td>\n",
       "      <td>NaN</td>\n",
       "      <td>NaN</td>\n",
       "    </tr>\n",
       "  </tbody>\n",
       "</table>\n",
       "<p>26307 rows × 5 columns</p>\n",
       "</div>"
      ],
      "text/plain": [
       "      engineTransmission_comments_value_0  \\\n",
       "0                              Pickup Low   \n",
       "1                                     NaN   \n",
       "2                                     NaN   \n",
       "3                                     NaN   \n",
       "4                                     NaN   \n",
       "...                                   ...   \n",
       "26302           Electrical wiring Damaged   \n",
       "26303                                 NaN   \n",
       "26304                                 NaN   \n",
       "26305                                 NaN   \n",
       "26306                                 NaN   \n",
       "\n",
       "           engineTransmission_comments_value_1  \\\n",
       "0      Starter Motor / Solenoid malfunctioning   \n",
       "1                                          NaN   \n",
       "2                                          NaN   \n",
       "3                                          NaN   \n",
       "4                                          NaN   \n",
       "...                                        ...   \n",
       "26302                                      NaN   \n",
       "26303                                      NaN   \n",
       "26304                                      NaN   \n",
       "26305                                      NaN   \n",
       "26306                                      NaN   \n",
       "\n",
       "      engineTransmission_comments_value_2 engineTransmission_comments_value_3  \\\n",
       "0                                     NaN                                 NaN   \n",
       "1                                     NaN                                 NaN   \n",
       "2                                     NaN                                 NaN   \n",
       "3                                     NaN                                 NaN   \n",
       "4                                     NaN                                 NaN   \n",
       "...                                   ...                                 ...   \n",
       "26302                                 NaN                                 NaN   \n",
       "26303                                 NaN                                 NaN   \n",
       "26304                                 NaN                                 NaN   \n",
       "26305                                 NaN                                 NaN   \n",
       "26306                                 NaN                                 NaN   \n",
       "\n",
       "      engineTransmission_comments_value_4  \n",
       "0                                     NaN  \n",
       "1                                     NaN  \n",
       "2                                     NaN  \n",
       "3                                     NaN  \n",
       "4                                     NaN  \n",
       "...                                   ...  \n",
       "26302                                 NaN  \n",
       "26303                                 NaN  \n",
       "26304                                 NaN  \n",
       "26305                                 NaN  \n",
       "26306                                 NaN  \n",
       "\n",
       "[26307 rows x 5 columns]"
      ]
     },
     "execution_count": 61,
     "metadata": {},
     "output_type": "execute_result"
    }
   ],
   "source": [
    "# Check for rest of the null variables\n",
    "var_null = [var for var in null_values if var not in list(set_A.intersection(set_B))]\n",
    "null_V = data[var_null]\n",
    "null_V"
   ]
  },
  {
   "cell_type": "code",
   "execution_count": 62,
   "metadata": {},
   "outputs": [
    {
     "name": "stdout",
     "output_type": "stream",
     "text": [
      " * Out of 26307 row this many of percentage of null values are there in : \n",
      "engineTransmission_comments_value_0    84.544038\n",
      "engineTransmission_comments_value_1    95.027939\n",
      "engineTransmission_comments_value_2    98.517505\n",
      "engineTransmission_comments_value_3    99.775725\n",
      "engineTransmission_comments_value_4    99.946782\n",
      "dtype: float64\n"
     ]
    }
   ],
   "source": [
    "print(\" * Out of 26307 row this many of percentage of null values are there in : \")\n",
    "print(null_V.isnull().sum() *100 / 26307)"
   ]
  },
  {
   "cell_type": "markdown",
   "metadata": {},
   "source": [
    "- As we can analyze that in above columns has more the 80% of null values and they are also not under condition of 40% more null values in it.\n",
    "- we have 2 options over here\n",
    "   1. drop those colums\n",
    "   2. We can impute \"no\" in above columns as mentioned in Fields_Summary\n",
    "\n",
    "- it is better to drop those colums as they are not important as per above analysis\n",
    "- Now we can impute \"yes\" in null values as per Fields_Summary  "
   ]
  },
  {
   "cell_type": "markdown",
   "metadata": {},
   "source": []
  },
  {
   "cell_type": "markdown",
   "metadata": {},
   "source": [
    "# Missing Value and outlier treatment"
   ]
  },
  {
   "cell_type": "code",
   "execution_count": 63,
   "metadata": {},
   "outputs": [],
   "source": [
    "import pandas as pd\n",
    "import numpy as np\n",
    "\n",
    "def percentage_missing(df):\n",
    "    missing_percentage = (df.isnull().sum() / len(df)) * 100\n",
    "    missing_percentage_sorted = missing_percentage.sort_values(ascending=False)\n",
    "    result_df = pd.DataFrame({'Column': missing_percentage_sorted.index, \n",
    "                              'Percentage Missing': missing_percentage_sorted.values})\n",
    "    \n",
    "    return result_df\n",
    "\n",
    "def identify_outliers(df, threshold=3):\n",
    "    outliers = pd.DataFrame()\n",
    "    for column in df.columns:\n",
    "        if df[column].dtype != 'object':\n",
    "            z_scores = (df[column] - df[column].mean()) / df[column].std()\n",
    "            outliers[column] = df.index[abs(z_scores) > threshold].tolist()\n",
    "    return outliers\n",
    "\n"
   ]
  },
  {
   "cell_type": "code",
   "execution_count": 64,
   "metadata": {},
   "outputs": [
    {
     "name": "stdout",
     "output_type": "stream",
     "text": [
      "Percentage of Missing Values:\n",
      "                                               Column  Percentage Missing\n",
      "0             engineTransmission_engineOil_cc_value_9          100.000000\n",
      "1               engineTransmission_engine_cc_value_10          100.000000\n",
      "2                engineTransmission_clutch_cc_value_6           99.996199\n",
      "3             engineTransmission_engineOil_cc_value_8           99.992397\n",
      "4                engineTransmission_engine_cc_value_9           99.988596\n",
      "5               engineTransmission_battery_cc_value_4           99.984795\n",
      "6                engineTransmission_engine_cc_value_8           99.984795\n",
      "7                engineTransmission_clutch_cc_value_5           99.973391\n",
      "8               engineTransmission_coolant_cc_value_3           99.969590\n",
      "9                engineTransmission_engine_cc_value_7           99.969590\n",
      "10            engineTransmission_engineOil_cc_value_7           99.958186\n",
      "11                engineTransmission_comments_value_4           99.946782\n",
      "12              engineTransmission_battery_cc_value_3           99.939180\n",
      "13               engineTransmission_engine_cc_value_6           99.859353\n",
      "14               engineTransmission_clutch_cc_value_4           99.836545\n",
      "15                engineTransmission_comments_value_3           99.775725\n",
      "16         engineTransmission_gearShifting_cc_value_2           99.749116\n",
      "17              engineTransmission_battery_cc_value_2           99.726309\n",
      "18               engineTransmission_engine_cc_value_5           99.650283\n",
      "19            engineTransmission_engineOil_cc_value_6           99.540046\n",
      "20               engineTransmission_clutch_cc_value_3           99.395598\n",
      "21          engineTransmission_engineSound_cc_value_5           99.300566\n",
      "22              engineTransmission_coolant_cc_value_2           99.106702\n",
      "23               engineTransmission_engine_cc_value_4           98.874824\n",
      "24                engineTransmission_comments_value_2           98.517505\n",
      "25  engineTransmission_engineOilLevelDipstick_cc_v...           98.437678\n",
      "26              engineTransmission_battery_cc_value_1           98.365454\n",
      "27            engineTransmission_engineOil_cc_value_5           97.685027\n",
      "28          engineTransmission_engineSound_cc_value_4           97.236477\n",
      "29         engineTransmission_gearShifting_cc_value_1           97.069221\n",
      "30               engineTransmission_clutch_cc_value_2           96.970388\n",
      "31               engineTransmission_engine_cc_value_3           96.563652\n",
      "32                engineTransmission_comments_value_1           95.027939\n",
      "33            engineTransmission_engineOil_cc_value_4           93.264150\n",
      "34          engineTransmission_engineSound_cc_value_3           91.819668\n",
      "35              engineTransmission_coolant_cc_value_1           91.017600\n",
      "36               engineTransmission_engine_cc_value_2           90.975786\n",
      "37              engineTransmission_battery_cc_value_0           86.931235\n",
      "38         engineTransmission_gearShifting_cc_value_0           86.832402\n",
      "39            engineTransmission_engineOil_cc_value_3           85.775649\n",
      "40                engineTransmission_comments_value_0           84.544038\n",
      "41               engineTransmission_clutch_cc_value_1           83.639336\n",
      "42               engineTransmission_engine_cc_value_1           80.674345\n",
      "43         engineTransmission_exhaustSmoke_cc_value_0           78.880146\n",
      "44          engineTransmission_engineSound_cc_value_2           76.918691\n",
      "45            engineTransmission_engineOil_cc_value_2           74.938229\n",
      "46               engineTransmission_engine_cc_value_0           65.522485\n",
      "47       engineTransmission_engineMounting_cc_value_0           64.697609\n",
      "48              engineTransmission_coolant_cc_value_0           61.850458\n",
      "49            engineTransmission_engineOil_cc_value_1           58.170829\n"
     ]
    }
   ],
   "source": [
    "\n",
    "missing_percentage = percentage_missing(data)\n",
    "print(\"Percentage of Missing Values:\")\n",
    "print(missing_percentage.head(50))\n"
   ]
  },
  {
   "cell_type": "code",
   "execution_count": 65,
   "metadata": {},
   "outputs": [],
   "source": [
    "def identify_outliers(df, method='iqr', threshold=1.5):\n",
    "    outlier_cols = []\n",
    "    for col in df.columns:\n",
    "        if method == 'iqr':\n",
    "            if df[col].dtype != 'object':\n",
    "                q1 = df[col].quantile(0.25)\n",
    "                q3 = df[col].quantile(0.75)\n",
    "                iqr = q3 - q1\n",
    "                lower_bound = q1 - threshold * iqr\n",
    "                upper_bound = q3 + threshold * iqr\n",
    "                outliers = df[(df[col] < lower_bound) | (df[col] > upper_bound)].index.tolist()\n",
    "                if len(outliers) > 0:\n",
    "                    outlier_cols.append(col)\n",
    "        elif method == 'z-score':\n",
    "            if df[col].dtype != 'object':\n",
    "                z_scores = (df[col] - df[col].mean()) / df[col].std()\n",
    "                outliers = df.index[abs(z_scores) > threshold].tolist()\n",
    "                if len(outliers) > 0:\n",
    "                    outlier_cols.append(col)\n",
    "    return outlier_cols\n",
    "\n"
   ]
  },
  {
   "cell_type": "code",
   "execution_count": 66,
   "metadata": {},
   "outputs": [
    {
     "name": "stdout",
     "output_type": "stream",
     "text": [
      "\n",
      "Outliers:\n",
      "['inspectionStartTime', 'year', 'month', 'odometer_reading', 'rating_engineTransmission']\n"
     ]
    }
   ],
   "source": [
    "# checking with both the outliers methods\n",
    "outliers = identify_outliers(df=data, method=\"z-score\")\n",
    "print(\"\\nOutliers:\")\n",
    "print(outliers)"
   ]
  },
  {
   "cell_type": "code",
   "execution_count": 67,
   "metadata": {},
   "outputs": [
    {
     "data": {
      "text/plain": [
       "<Axes: ylabel='year'>"
      ]
     },
     "execution_count": 67,
     "metadata": {},
     "output_type": "execute_result"
    },
    {
     "data": {
      "image/png": "[encoded data removed]",
      "text/plain": [
       "<Figure size 640x480 with 1 Axes>"
      ]
     },
     "metadata": {},
     "output_type": "display_data"
    }
   ],
   "source": [
    "sns.boxplot(data['year'])"
   ]
  },
  {
   "cell_type": "code",
   "execution_count": 68,
   "metadata": {},
   "outputs": [
    {
     "data": {
      "text/plain": [
       "<Axes: ylabel='month'>"
      ]
     },
     "execution_count": 68,
     "metadata": {},
     "output_type": "execute_result"
    },
    {
     "data": {
      "image/png": "[encoded data removed]",
      "text/plain": [
       "<Figure size 640x480 with 1 Axes>"
      ]
     },
     "metadata": {},
     "output_type": "display_data"
    }
   ],
   "source": [
    "sns.boxplot(data['month'])"
   ]
  },
  {
   "cell_type": "code",
   "execution_count": 69,
   "metadata": {},
   "outputs": [
    {
     "data": {
      "text/plain": [
       "<Axes: ylabel='odometer_reading'>"
      ]
     },
     "execution_count": 69,
     "metadata": {},
     "output_type": "execute_result"
    },
    {
     "data": {
      "image/png": "[encoded data removed]",
      "text/plain": [
       "<Figure size 640x480 with 1 Axes>"
      ]
     },
     "metadata": {},
     "output_type": "display_data"
    }
   ],
   "source": [
    "sns.boxplot(data['odometer_reading'])"
   ]
  },
  {
   "cell_type": "code",
   "execution_count": 70,
   "metadata": {},
   "outputs": [
    {
     "data": {
      "text/plain": [
       "<Axes: ylabel='rating_engineTransmission'>"
      ]
     },
     "execution_count": 70,
     "metadata": {},
     "output_type": "execute_result"
    },
    {
     "data": {
      "image/png": "[encoded data removed]",
      "text/plain": [
       "<Figure size 640x480 with 1 Axes>"
      ]
     },
     "metadata": {},
     "output_type": "display_data"
    }
   ],
   "source": [
    "sns.boxplot(data['rating_engineTransmission'])"
   ]
  },
  {
   "cell_type": "code",
   "execution_count": 71,
   "metadata": {},
   "outputs": [
    {
     "data": {
      "text/plain": [
       "<Axes: ylabel='inspectionStartTime'>"
      ]
     },
     "execution_count": 71,
     "metadata": {},
     "output_type": "execute_result"
    },
    {
     "data": {
      "image/png": "[encoded data removed]",
      "text/plain": [
       "<Figure size 640x480 with 1 Axes>"
      ]
     },
     "metadata": {},
     "output_type": "display_data"
    }
   ],
   "source": [
    "sns.boxplot(data['inspectionStartTime'])"
   ]
  },
  {
   "cell_type": "code",
   "execution_count": 72,
   "metadata": {},
   "outputs": [],
   "source": [
    "def remove_high_missing_columns(df, threshold):\n",
    "    missing_percentage = (df.isnull().sum() / len(df))\n",
    "    high_missing_columns = missing_percentage[missing_percentage >= threshold].index.tolist()\n",
    "    df_filtered = df.drop(columns=high_missing_columns)\n",
    "    \n",
    "    return df_filtered\n",
    "\n",
    "def outlier_treatment(df, lower_quantile=0.01, upper_quantile=0.99):\n",
    "    lower_quantile = min(max(lower_quantile, 0), 1)\n",
    "    upper_quantile = min(max(upper_quantile, 0), 1)\n",
    "    numeric_columns = df.select_dtypes(include=['number'])\n",
    "    lower_bound = numeric_columns.quantile(lower_quantile)\n",
    "    upper_bound = numeric_columns.quantile(upper_quantile)\n",
    "\n",
    "    df_treated = df.copy()  \n",
    "    for col in numeric_columns:\n",
    "        df_treated[col] = df[col].clip(lower=lower_bound[col], upper=upper_bound[col])\n",
    "    \n",
    "    return df_treated\n",
    "\n"
   ]
  },
  {
   "cell_type": "code",
   "execution_count": 73,
   "metadata": {},
   "outputs": [
    {
     "data": {
      "text/plain": [
       "((26307, 73), (26307, 36))"
      ]
     },
     "execution_count": 73,
     "metadata": {},
     "output_type": "execute_result"
    }
   ],
   "source": [
    "df_1=remove_high_missing_columns(data, threshold=0.90)\n",
    "df_2=outlier_treatment(df_1)\n",
    "data.shape, df_1.shape"
   ]
  },
  {
   "cell_type": "markdown",
   "metadata": {},
   "source": [
    "# EDA"
   ]
  },
  {
   "cell_type": "code",
   "execution_count": 74,
   "metadata": {},
   "outputs": [],
   "source": [
    "df_2 = df_2.fillna('yes') # imputing as proved above\n",
    "df_2.replace(\"Yes\",1, inplace = True) # Replacing \"Yes\" with 1.\n",
    "df_2.replace(\"No\",0, inplace = True) # Replacing \"No\" with 0."
   ]
  },
  {
   "cell_type": "code",
   "execution_count": 75,
   "metadata": {},
   "outputs": [
    {
     "name": "stdout",
     "output_type": "stream",
     "text": [
      "Total Categorcal data in DB :  20\n",
      "total vraible data : 16\n"
     ]
    }
   ],
   "source": [
    "categorical_data = df_2.select_dtypes(include=['object']).columns\n",
    "vriable_data = [cols for cols in df_2.columns if cols not in categorical_data]\n",
    "print(\"Total Categorcal data in DB : \",len(categorical_data))\n",
    "print(\"total vraible data :\",len(vriable_data))"
   ]
  },
  {
   "cell_type": "code",
   "execution_count": 76,
   "metadata": {},
   "outputs": [
    {
     "data": {
      "text/plain": [
       "['appointmentId',\n",
       " 'engineTransmission_battery_cc_value_0',\n",
       " 'engineTransmission_engineOil_cc_value_0',\n",
       " 'engineTransmission_engineOil_cc_value_1',\n",
       " 'engineTransmission_engineOil_cc_value_2',\n",
       " 'engineTransmission_engineOil_cc_value_3',\n",
       " 'engineTransmission_engine_cc_value_0',\n",
       " 'engineTransmission_engine_cc_value_1',\n",
       " 'engineTransmission_coolant_cc_value_0',\n",
       " 'engineTransmission_engineMounting_cc_value_0',\n",
       " 'engineTransmission_engineSound_cc_value_0',\n",
       " 'engineTransmission_engineSound_cc_value_1',\n",
       " 'engineTransmission_engineSound_cc_value_2',\n",
       " 'engineTransmission_exhaustSmoke_cc_value_0',\n",
       " 'engineTransmission_engineBlowByBackCompression_cc_value_0',\n",
       " 'engineTransmission_clutch_cc_value_0',\n",
       " 'engineTransmission_clutch_cc_value_1',\n",
       " 'engineTransmission_gearShifting_cc_value_0',\n",
       " 'engineTransmission_comments_value_0',\n",
       " 'fuel_type']"
      ]
     },
     "execution_count": 76,
     "metadata": {},
     "output_type": "execute_result"
    }
   ],
   "source": [
    "list(categorical_data)"
   ]
  },
  {
   "cell_type": "code",
   "execution_count": 77,
   "metadata": {},
   "outputs": [
    {
     "data": {
      "text/plain": [
       "['inspectionStartTime',\n",
       " 'year',\n",
       " 'month',\n",
       " 'engineTransmission_battery_value',\n",
       " 'engineTransmission_engineoilLevelDipstick_value',\n",
       " 'engineTransmission_engineOil',\n",
       " 'engineTransmission_engine_value',\n",
       " 'engineTransmission_coolant_value',\n",
       " 'engineTransmission_engineMounting_value',\n",
       " 'engineTransmission_engineSound_value',\n",
       " 'engineTransmission_exhaustSmoke_value',\n",
       " 'engineTransmission_engineBlowByBackCompression_value',\n",
       " 'engineTransmission_clutch_value',\n",
       " 'engineTransmission_gearShifting_value',\n",
       " 'odometer_reading',\n",
       " 'rating_engineTransmission']"
      ]
     },
     "execution_count": 77,
     "metadata": {},
     "output_type": "execute_result"
    }
   ],
   "source": [
    "list(vriable_data)"
   ]
  },
  {
   "cell_type": "code",
   "execution_count": 78,
   "metadata": {},
   "outputs": [
    {
     "data": {
      "text/plain": [
       "yes                          22869\n",
       "Weak                          3097\n",
       "Changed                        227\n",
       "Jump Start                      55\n",
       "Not Working                     39\n",
       "Discharging light glowing       20\n",
       "Name: engineTransmission_battery_cc_value_0, dtype: int64"
      ]
     },
     "execution_count": 78,
     "metadata": {},
     "output_type": "execute_result"
    }
   ],
   "source": [
    "df_2[\"engineTransmission_battery_cc_value_0\"].value_counts()"
   ]
  },
  {
   "cell_type": "code",
   "execution_count": 79,
   "metadata": {},
   "outputs": [
    {
     "data": {
      "text/plain": [
       "Leaking                               7892\n",
       "yes                                   7750\n",
       "Dirty                                 6906\n",
       "Level Low                             2739\n",
       "Leakage from Tappet Cover              716\n",
       "Leakage from Side cover                221\n",
       "Leakage from Sump/chamber               50\n",
       "Leakage from Turbo Charger              31\n",
       "Low Pressure warning light glowing       1\n",
       "Mixed with Coolant                       1\n",
       "Name: engineTransmission_engineOil_cc_value_0, dtype: int64"
      ]
     },
     "execution_count": 79,
     "metadata": {},
     "output_type": "execute_result"
    }
   ],
   "source": [
    "df_2[\"engineTransmission_engineOil_cc_value_0\"].value_counts()"
   ]
  },
  {
   "cell_type": "code",
   "execution_count": 80,
   "metadata": {},
   "outputs": [
    {
     "data": {
      "text/plain": [
       "yes                                   15303\n",
       "Dirty                                  5589\n",
       "Leakage from Tappet Cover              2148\n",
       "Leaking                                2087\n",
       "Leakage from Side cover                 800\n",
       "Leakage from Sump/chamber               240\n",
       "Leakage from Turbo Charger              117\n",
       "Low Pressure warning light glowing       12\n",
       "Mixed with Coolant                       11\n",
       "Name: engineTransmission_engineOil_cc_value_1, dtype: int64"
      ]
     },
     "execution_count": 80,
     "metadata": {},
     "output_type": "execute_result"
    }
   ],
   "source": [
    "df_2[\"engineTransmission_engineOil_cc_value_1\"].value_counts()"
   ]
  },
  {
   "cell_type": "code",
   "execution_count": 81,
   "metadata": {},
   "outputs": [
    {
     "data": {
      "text/plain": [
       "yes                                   19714\n",
       "Leakage from Tappet Cover              2908\n",
       "Dirty                                  1598\n",
       "Leakage from Side cover                1433\n",
       "Leakage from Sump/chamber               472\n",
       "Leakage from Turbo Charger              158\n",
       "Low Pressure warning light glowing       13\n",
       "Mixed with Coolant                       11\n",
       "Name: engineTransmission_engineOil_cc_value_2, dtype: int64"
      ]
     },
     "execution_count": 81,
     "metadata": {},
     "output_type": "execute_result"
    }
   ],
   "source": [
    "df_2[\"engineTransmission_engineOil_cc_value_2\"].value_counts()"
   ]
  },
  {
   "cell_type": "code",
   "execution_count": 82,
   "metadata": {},
   "outputs": [
    {
     "data": {
      "text/plain": [
       "yes                                   22565\n",
       "Leakage from Side cover                1908\n",
       "Leakage from Tappet Cover              1083\n",
       "Leakage from Sump/chamber               572\n",
       "Leakage from Turbo Charger              160\n",
       "Low Pressure warning light glowing       11\n",
       "Mixed with Coolant                        8\n",
       "Name: engineTransmission_engineOil_cc_value_3, dtype: int64"
      ]
     },
     "execution_count": 82,
     "metadata": {},
     "output_type": "execute_result"
    }
   ],
   "source": [
    "df_2[\"engineTransmission_engineOil_cc_value_3\"].value_counts()"
   ]
  },
  {
   "cell_type": "code",
   "execution_count": 83,
   "metadata": {},
   "outputs": [
    {
     "data": {
      "text/plain": [
       "yes                           17237\n",
       "RPM fluctuating                3409\n",
       "Repaired                       2376\n",
       "Misfiring                      1613\n",
       "MIL light glowing               915\n",
       "RPM not increasing              266\n",
       "Fuel Leakage From Injector      220\n",
       "Over heating                    129\n",
       "Sump Damaged                     64\n",
       "Not converting to CNG            50\n",
       "Turbo charger not working        13\n",
       "Car not working on Petrol        11\n",
       "Seized                            4\n",
       "Name: engineTransmission_engine_cc_value_0, dtype: int64"
      ]
     },
     "execution_count": 83,
     "metadata": {},
     "output_type": "execute_result"
    }
   ],
   "source": [
    "df_2[\"engineTransmission_engine_cc_value_0\"].value_counts()"
   ]
  },
  {
   "cell_type": "code",
   "execution_count": 84,
   "metadata": {},
   "outputs": [
    {
     "data": {
      "text/plain": [
       "yes                           21223\n",
       "Misfiring                      2228\n",
       "Repaired                       1426\n",
       "MIL light glowing               743\n",
       "Over heating                    202\n",
       "Fuel Leakage From Injector      167\n",
       "RPM fluctuating                 163\n",
       "Not converting to CNG            59\n",
       "Sump Damaged                     56\n",
       "Turbo charger not working        20\n",
       "Car not working on Petrol        17\n",
       "Seized                            3\n",
       "Name: engineTransmission_engine_cc_value_1, dtype: int64"
      ]
     },
     "execution_count": 84,
     "metadata": {},
     "output_type": "execute_result"
    }
   ],
   "source": [
    "df_2[\"engineTransmission_engine_cc_value_1\"].value_counts()"
   ]
  },
  {
   "cell_type": "code",
   "execution_count": 85,
   "metadata": {},
   "outputs": [
    {
     "data": {
      "text/plain": [
       "yes                      16271\n",
       "Dirty                     6920\n",
       "Leaking                   3061\n",
       "Radiator Damaged            37\n",
       "Mixed with Engine Oil       18\n",
       "Name: engineTransmission_coolant_cc_value_0, dtype: int64"
      ]
     },
     "execution_count": 85,
     "metadata": {},
     "output_type": "execute_result"
    }
   ],
   "source": [
    "df_2[\"engineTransmission_coolant_cc_value_0\"].value_counts()"
   ]
  },
  {
   "cell_type": "code",
   "execution_count": 86,
   "metadata": {},
   "outputs": [
    {
     "name": "stdout",
     "output_type": "stream",
     "text": [
      "Value counts for engineTransmission_engineMounting_cc_value_0:\n",
      "yes                 17020\n",
      "Excess Vibration     7437\n",
      "Broken               1224\n",
      "Loose                 626\n",
      "Name: engineTransmission_engineMounting_cc_value_0, dtype: int64\n",
      "\n",
      "\n",
      "Value counts for engineTransmission_engineBlowByBackCompression_cc_value_0:\n",
      "NO Blow-by                              21737\n",
      "Perm. Blow By on idle                    2043\n",
      "Back Compression Exist                   1546\n",
      "Oil spillage on Idle                      539\n",
      "Perm. blow by & oil spillage on idle      442\n",
      "Name: engineTransmission_engineBlowByBackCompression_cc_value_0, dtype: int64\n",
      "\n",
      "\n",
      "Value counts for engineTransmission_engineOil_cc_value_1:\n",
      "yes                                   15303\n",
      "Dirty                                  5589\n",
      "Leakage from Tappet Cover              2148\n",
      "Leaking                                2087\n",
      "Leakage from Side cover                 800\n",
      "Leakage from Sump/chamber               240\n",
      "Leakage from Turbo Charger              117\n",
      "Low Pressure warning light glowing       12\n",
      "Mixed with Coolant                       11\n",
      "Name: engineTransmission_engineOil_cc_value_1, dtype: int64\n",
      "\n",
      "\n",
      "Value counts for engineTransmission_engine_cc_value_0:\n",
      "yes                           17237\n",
      "RPM fluctuating                3409\n",
      "Repaired                       2376\n",
      "Misfiring                      1613\n",
      "MIL light glowing               915\n",
      "RPM not increasing              266\n",
      "Fuel Leakage From Injector      220\n",
      "Over heating                    129\n",
      "Sump Damaged                     64\n",
      "Not converting to CNG            50\n",
      "Turbo charger not working        13\n",
      "Car not working on Petrol        11\n",
      "Seized                            4\n",
      "Name: engineTransmission_engine_cc_value_0, dtype: int64\n",
      "\n",
      "\n",
      "Value counts for engineTransmission_comments_value_0:\n",
      "yes                                              22241\n",
      "Pickup Low                                        2155\n",
      "Electrical wiring Damaged                          898\n",
      "Starter Motor / Solenoid malfunctioning            844\n",
      "Car not in running condition, towing required      125\n",
      "Radiator Fan not working                            37\n",
      "4WD / AWD not working                                7\n",
      "Name: engineTransmission_comments_value_0, dtype: int64\n",
      "\n",
      "\n",
      "Value counts for engineTransmission_gearShifting_cc_value_0:\n",
      "yes                                            22843\n",
      "Hard                                            2369\n",
      "Abnormal Noise                                   856\n",
      "Not Engaging                                     156\n",
      "Automatic Transmission not working properly       83\n",
      "Name: engineTransmission_gearShifting_cc_value_0, dtype: int64\n",
      "\n",
      "\n",
      "Value counts for engineTransmission_engine_cc_value_1:\n",
      "yes                           21223\n",
      "Misfiring                      2228\n",
      "Repaired                       1426\n",
      "MIL light glowing               743\n",
      "Over heating                    202\n",
      "Fuel Leakage From Injector      167\n",
      "RPM fluctuating                 163\n",
      "Not converting to CNG            59\n",
      "Sump Damaged                     56\n",
      "Turbo charger not working        20\n",
      "Car not working on Petrol        17\n",
      "Seized                            3\n",
      "Name: engineTransmission_engine_cc_value_1, dtype: int64\n",
      "\n",
      "\n",
      "Value counts for engineTransmission_clutch_cc_value_0:\n",
      "yes                                   14543\n",
      "Hard                                   7485\n",
      "Spongy                                 3346\n",
      "Slip                                    347\n",
      "Low Pick Up                             335\n",
      "Bearing Noise                           136\n",
      "Auto Transmission Not Satisfactory       95\n",
      "Burning                                  20\n",
      "Name: engineTransmission_clutch_cc_value_0, dtype: int64\n",
      "\n",
      "\n",
      "Value counts for engineTransmission_engineSound_cc_value_1:\n",
      "yes                       12802\n",
      "Tappet Noise               7571\n",
      "Timing Noise               2881\n",
      "Engine Auxiliary Noise     1258\n",
      "Water Pump Brg Noise        793\n",
      "Injector Noise              555\n",
      "Alternator Brg Noise        447\n",
      "Name: engineTransmission_engineSound_cc_value_1, dtype: int64\n",
      "\n",
      "\n",
      "Value counts for engineTransmission_engineSound_cc_value_2:\n",
      "yes                       20235\n",
      "Tappet Noise               2357\n",
      "Engine Auxiliary Noise     2107\n",
      "Timing Noise                792\n",
      "Injector Noise              637\n",
      "Water Pump Brg Noise        179\n",
      "Name: engineTransmission_engineSound_cc_value_2, dtype: int64\n",
      "\n",
      "\n",
      "Value counts for engineTransmission_battery_cc_value_0:\n",
      "yes                          22869\n",
      "Weak                          3097\n",
      "Changed                        227\n",
      "Jump Start                      55\n",
      "Not Working                     39\n",
      "Discharging light glowing       20\n",
      "Name: engineTransmission_battery_cc_value_0, dtype: int64\n",
      "\n",
      "\n",
      "Value counts for engineTransmission_engineOil_cc_value_3:\n",
      "yes                                   22565\n",
      "Leakage from Side cover                1908\n",
      "Leakage from Tappet Cover              1083\n",
      "Leakage from Sump/chamber               572\n",
      "Leakage from Turbo Charger              160\n",
      "Low Pressure warning light glowing       11\n",
      "Mixed with Coolant                        8\n",
      "Name: engineTransmission_engineOil_cc_value_3, dtype: int64\n",
      "\n",
      "\n",
      "Value counts for engineTransmission_clutch_cc_value_1:\n",
      "yes                                   22003\n",
      "Low Pick Up                            2016\n",
      "Spongy                                 1302\n",
      "Slip                                    446\n",
      "Bearing Noise                           423\n",
      "Burning                                  90\n",
      "Auto Transmission Not Satisfactory       27\n",
      "Name: engineTransmission_clutch_cc_value_1, dtype: int64\n",
      "\n",
      "\n",
      "Value counts for engineTransmission_engineOil_cc_value_0:\n",
      "Leaking                               7892\n",
      "yes                                   7750\n",
      "Dirty                                 6906\n",
      "Level Low                             2739\n",
      "Leakage from Tappet Cover              716\n",
      "Leakage from Side cover                221\n",
      "Leakage from Sump/chamber               50\n",
      "Leakage from Turbo Charger              31\n",
      "Low Pressure warning light glowing       1\n",
      "Mixed with Coolant                       1\n",
      "Name: engineTransmission_engineOil_cc_value_0, dtype: int64\n",
      "\n",
      "\n",
      "Value counts for engineTransmission_engineOil_cc_value_2:\n",
      "yes                                   19714\n",
      "Leakage from Tappet Cover              2908\n",
      "Dirty                                  1598\n",
      "Leakage from Side cover                1433\n",
      "Leakage from Sump/chamber               472\n",
      "Leakage from Turbo Charger              158\n",
      "Low Pressure warning light glowing       13\n",
      "Mixed with Coolant                       11\n",
      "Name: engineTransmission_engineOil_cc_value_2, dtype: int64\n",
      "\n",
      "\n",
      "Value counts for fuel_type:\n",
      "Petrol          10719\n",
      "Diesel           9895\n",
      "Petrol + CNG     5627\n",
      "Petrol + LPG       59\n",
      "Hybrid              5\n",
      "Electric            2\n",
      "Name: fuel_type, dtype: int64\n",
      "\n",
      "\n",
      "Value counts for engineTransmission_coolant_cc_value_0:\n",
      "yes                      16271\n",
      "Dirty                     6920\n",
      "Leaking                   3061\n",
      "Radiator Damaged            37\n",
      "Mixed with Engine Oil       18\n",
      "Name: engineTransmission_coolant_cc_value_0, dtype: int64\n",
      "\n",
      "\n",
      "Value counts for engineTransmission_exhaustSmoke_cc_value_0:\n",
      "yes                             20751\n",
      "Black                            2084\n",
      "Noise from silencer assembly     1584\n",
      "Blue                              790\n",
      "Silencer assembly damaged         603\n",
      "White                             473\n",
      "Leakage from manifold              22\n",
      "Name: engineTransmission_exhaustSmoke_cc_value_0, dtype: int64\n",
      "\n",
      "\n",
      "Value counts for engineTransmission_engineSound_cc_value_0:\n",
      "Timing Noise              8170\n",
      "yes                       7227\n",
      "Tappet Noise              3934\n",
      "Alternator Brg Noise      3700\n",
      "Whistling Noise-Turbo     1685\n",
      "Engine Auxiliary Noise     936\n",
      "Water Pump Brg Noise       408\n",
      "Injector Noise             247\n",
      "Name: engineTransmission_engineSound_cc_value_0, dtype: int64\n",
      "\n",
      "\n"
     ]
    }
   ],
   "source": [
    "feature_columns=list(set(categorical_data)-{'appointmentId'})\n",
    "for column in feature_columns:\n",
    "    print(f\"Value counts for {column}:\")\n",
    "    print(df_2[column].value_counts())\n",
    "    print(\"\\n\")"
   ]
  },
  {
   "cell_type": "code",
   "execution_count": 87,
   "metadata": {},
   "outputs": [],
   "source": [
    "freq_encoding_list=['engineTransmission_engineOil_cc_value_2','engineTransmission_engine_cc_value_1','engineTransmission_engine_cc_value_0',\n",
    "                    'engineTransmission_engineSound_cc_value_1','engineTransmission_clutch_cc_value_0','engineTransmission_clutch_cc_value_1',\n",
    "                    'engineTransmission_engineBlowByBackCompression_cc_value_0','engineTransmission_engineSound_cc_value_0','engineTransmission_exhaustSmoke_cc_value_0',\n",
    "                    'engineTransmission_comments_value_0','engineTransmission_engineOil_cc_value_0','engineTransmission_engineOil_cc_value_3',\n",
    "                    'engineTransmission_engineOil_cc_value_1']\n",
    "label_encoding_list=['engineTransmission_engineSound_cc_value_2','engineTransmission_coolant_cc_value_0','engineTransmission_battery_cc_value_0',\n",
    "                     'engineTransmission_gearShifting_cc_value_0','engineTransmission_engineMounting_cc_value_0','fuel_type']"
   ]
  },
  {
   "cell_type": "markdown",
   "metadata": {},
   "source": [
    "### Categorical Encoding"
   ]
  },
  {
   "cell_type": "code",
   "execution_count": 88,
   "metadata": {},
   "outputs": [],
   "source": [
    "\n",
    "from sklearn.preprocessing import LabelEncoder\n",
    "label_encoder = LabelEncoder()\n",
    "for i in label_encoding_list:\n",
    "    df_2[f'{i}'] = label_encoder.fit_transform(df_2[f'{i}'])\n",
    "\n",
    "for j in freq_encoding_list:\n",
    "    freq_encoding = df_2[f'{j}'].value_counts(normalize=True)\n",
    "    df_2[f'{j}'] = df_2[f'{j}'].map(freq_encoding)"
   ]
  },
  {
   "cell_type": "code",
   "execution_count": 89,
   "metadata": {},
   "outputs": [],
   "source": [
    "# Extract the inspection month, day & hour\n",
    "inspection_Date = df_2['inspectionStartTime'].dt.date\n",
    "inspection_Month = df_2['inspectionStartTime'].dt.month\n",
    "inspection_WeekDay = df_2['inspectionStartTime'].dt.dayofweek\n",
    "inspection_Day = df_2['inspectionStartTime'].dt.day\n",
    "inspection_Hour = df_2['inspectionStartTime'].dt.hour\n",
    "\n",
    "# Insert into the dataframe\n",
    "df_2.insert(2,'inspection_Date', inspection_Date)\n",
    "df_2.insert(3,'inspection_Month', inspection_Month)\n",
    "df_2.insert(4,'inspection_Day', inspection_Day)\n",
    "df_2.insert(5,'inspection_WeekDay', inspection_WeekDay)\n",
    "df_2.insert(6,'inspection_Hour', inspection_Hour)"
   ]
  },
  {
   "cell_type": "code",
   "execution_count": 90,
   "metadata": {},
   "outputs": [
    {
     "data": {
      "text/plain": [
       "appointmentId                                                        object\n",
       "inspectionStartTime                                          datetime64[ns]\n",
       "inspection_Date                                                      object\n",
       "inspection_Month                                                      int64\n",
       "inspection_Day                                                        int64\n",
       "inspection_WeekDay                                                    int64\n",
       "inspection_Hour                                                       int64\n",
       "year                                                                  int64\n",
       "month                                                                 int64\n",
       "engineTransmission_battery_value                                      int64\n",
       "engineTransmission_battery_cc_value_0                                 int32\n",
       "engineTransmission_engineoilLevelDipstick_value                       int64\n",
       "engineTransmission_engineOil                                          int64\n",
       "engineTransmission_engineOil_cc_value_0                             float64\n",
       "engineTransmission_engineOil_cc_value_1                             float64\n",
       "engineTransmission_engineOil_cc_value_2                             float64\n",
       "engineTransmission_engineOil_cc_value_3                             float64\n",
       "engineTransmission_engine_value                                       int64\n",
       "engineTransmission_engine_cc_value_0                                float64\n",
       "engineTransmission_engine_cc_value_1                                float64\n",
       "engineTransmission_coolant_value                                      int64\n",
       "engineTransmission_coolant_cc_value_0                                 int32\n",
       "engineTransmission_engineMounting_value                               int64\n",
       "engineTransmission_engineMounting_cc_value_0                          int32\n",
       "engineTransmission_engineSound_value                                  int64\n",
       "engineTransmission_engineSound_cc_value_0                           float64\n",
       "engineTransmission_engineSound_cc_value_1                           float64\n",
       "engineTransmission_engineSound_cc_value_2                             int32\n",
       "engineTransmission_exhaustSmoke_value                                 int64\n",
       "engineTransmission_exhaustSmoke_cc_value_0                          float64\n",
       "engineTransmission_engineBlowByBackCompression_value                  int64\n",
       "engineTransmission_engineBlowByBackCompression_cc_value_0           float64\n",
       "engineTransmission_clutch_value                                       int64\n",
       "engineTransmission_clutch_cc_value_0                                float64\n",
       "engineTransmission_clutch_cc_value_1                                float64\n",
       "engineTransmission_gearShifting_value                                 int64\n",
       "engineTransmission_gearShifting_cc_value_0                            int32\n",
       "engineTransmission_comments_value_0                                 float64\n",
       "fuel_type                                                             int32\n",
       "odometer_reading                                                    float64\n",
       "rating_engineTransmission                                           float64\n",
       "dtype: object"
      ]
     },
     "execution_count": 90,
     "metadata": {},
     "output_type": "execute_result"
    }
   ],
   "source": [
    "df_2.dtypes"
   ]
  },
  {
   "cell_type": "markdown",
   "metadata": {},
   "source": [
    "### Correlation"
   ]
  },
  {
   "cell_type": "code",
   "execution_count": 91,
   "metadata": {},
   "outputs": [
    {
     "name": "stdout",
     "output_type": "stream",
     "text": [
      "                                                    correlation\n",
      "rating_engineTransmission                              1.000000\n",
      "year                                                   0.580143\n",
      "engineTransmission_exhaustSmoke_cc_value_0             0.187215\n",
      "engineTransmission_exhaustSmoke_value                  0.186425\n",
      "engineTransmission_engine_value                        0.181821\n",
      "engineTransmission_engine_cc_value_0                   0.179090\n",
      "engineTransmission_engine_cc_value_1                   0.177585\n",
      "engineTransmission_engineBlowByBackCompression_...     0.163188\n",
      "engineTransmission_engineOil_cc_value_2                0.159810\n",
      "engineTransmission_engineOil_cc_value_3                0.158365\n",
      "engineTransmission_clutch_value                        0.158014\n",
      "engineTransmission_engineOil_cc_value_1                0.157322\n",
      "engineTransmission_engineSound_cc_value_1              0.153439\n",
      "engineTransmission_gearShifting_value                  0.153380\n",
      "engineTransmission_engineSound_cc_value_2              0.147193\n",
      "engineTransmission_battery_value                       0.140799\n",
      "engineTransmission_clutch_cc_value_0                   0.140380\n",
      "engineTransmission_clutch_cc_value_1                   0.133581\n",
      "engineTransmission_gearShifting_cc_value_0             0.130217\n",
      "engineTransmission_coolant_value                       0.125181\n",
      "engineTransmission_coolant_cc_value_0                  0.116636\n",
      "engineTransmission_comments_value_0                    0.114820\n",
      "month                                                  0.113745\n",
      "engineTransmission_engineMounting_cc_value_0           0.102290\n",
      "engineTransmission_battery_cc_value_0                  0.092934\n",
      "engineTransmission_engineMounting_value                0.092617\n",
      "engineTransmission_engineSound_value                   0.079844\n",
      "engineTransmission_engineBlowByBackCompression_...     0.071011\n",
      "engineTransmission_engineoilLevelDipstick_value        0.064281\n",
      "engineTransmission_engineOil_cc_value_0                0.064118\n",
      "inspection_Month                                       0.046142\n",
      "engineTransmission_engineSound_cc_value_0              0.042368\n",
      "engineTransmission_engineOil                           0.025749\n",
      "inspection_Day                                        -0.000690\n",
      "inspection_WeekDay                                    -0.002766\n",
      "inspection_Hour                                       -0.035906\n",
      "fuel_type                                             -0.056624\n",
      "odometer_reading                                      -0.382225\n"
     ]
    }
   ],
   "source": [
    "variables_to_correlate = df_2.drop(columns=['appointmentId','inspectionStartTime','inspection_Date'])\n",
    "correlation_with_target = variables_to_correlate.corrwith(df_2['rating_engineTransmission'])\n",
    "\n",
    "correlation_df = pd.DataFrame(correlation_with_target, columns=['correlation'])\n",
    "correlation_df_sorted = correlation_df.sort_values(by='correlation', ascending=False)\n",
    "\n",
    "print(correlation_df_sorted)"
   ]
  },
  {
   "cell_type": "markdown",
   "metadata": {},
   "source": [
    "# Model building"
   ]
  },
  {
   "cell_type": "code",
   "execution_count": 92,
   "metadata": {},
   "outputs": [],
   "source": [
    "df_2.drop(['appointmentId','inspectionStartTime','inspection_Date'], axis=1, inplace=True)\n",
    "data=df_2"
   ]
  },
  {
   "cell_type": "code",
   "execution_count": 93,
   "metadata": {},
   "outputs": [],
   "source": [
    "# 1. Split into training set & target\n",
    "data[f'rating_engineTransmission'] = label_encoder.fit_transform(data[f'rating_engineTransmission'])\n",
    "train = data.drop('rating_engineTransmission', axis=1).reset_index().drop('index', axis=1)\n",
    "target = data['rating_engineTransmission'].reset_index().drop('index', axis=1)\n",
    "\n",
    "# 2. Encode the categorical variables\n",
    "train_encoded = pd.get_dummies(train, drop_first=True)\n",
    "\n",
    "# 3. Scale the data\n",
    "mms = MinMaxScaler()\n",
    "X = pd.DataFrame(mms.fit_transform(train_encoded), columns=train_encoded.columns)\n",
    "y = target\n",
    "\n",
    "# 4. Split the data into train & test\n",
    "X_train, X_test, y_train, y_test = train_test_split(X, y, test_size=0.2, random_state=42)"
   ]
  },
  {
   "cell_type": "code",
   "execution_count": 94,
   "metadata": {},
   "outputs": [
    {
     "name": "stdout",
     "output_type": "stream",
     "text": [
      "Model Evaluation Results:\n",
      "LogisticRegression: Accuracy - 0.5291, Precision - 0.4947, Recall - 0.5291, F1-Score - 0.4852\n",
      "RandomForestClassifier: Accuracy - 0.5429, Precision - 0.5183, Recall - 0.5429, F1-Score - 0.5174\n",
      "SVC: Accuracy - 0.5399, Precision - 0.5148, Recall - 0.5399, F1-Score - 0.4923\n",
      "\n",
      "Best Model: RandomForestClassifier\n"
     ]
    }
   ],
   "source": [
    "from sklearn.model_selection import  RandomizedSearchCV\n",
    "from sklearn.metrics import accuracy_score, precision_score, recall_score, f1_score\n",
    "\n",
    "from sklearn.linear_model import LogisticRegression\n",
    "from sklearn.ensemble import RandomForestClassifier\n",
    "from sklearn.svm import SVC \n",
    "\n",
    "models = [ LogisticRegression(multi_class='multinomial', solver='lbfgs'), RandomForestClassifier(),\n",
    "          SVC(probability=True) ]\n",
    "\n",
    "def evaluate_model(model, X_train, X_test, y_train, y_test, param_distributions=None):\n",
    "  if param_distributions is not None:  \n",
    "    clf = RandomizedSearchCV(model, param_distributions, cv=5, scoring='accuracy', n_iter=100)  \n",
    "    clf.fit(X_train, y_train)\n",
    "    model = clf.best_estimator_\n",
    "  model.fit(X_train, y_train)\n",
    "  y_pred = model.predict(X_test)\n",
    "  accuracy = accuracy_score(y_test, y_pred)\n",
    "  precision = precision_score(y_test, y_pred, average='weighted')  \n",
    "  recall = recall_score(y_test, y_pred, average='weighted')  \n",
    "  f1 = f1_score(y_test, y_pred, average='weighted')  \n",
    "  return {\"model\": model.__class__.__name__,\n",
    "          \"accuracy\": accuracy,\n",
    "          \"precision\": precision,\n",
    "          \"recall\": recall,\n",
    "          \"f1\": f1}\n",
    "\n",
    "\n",
    "results = []\n",
    "for model in models:\n",
    "  if model == RandomForestClassifier:\n",
    "    param_distributions = {'n_estimators': [100, 200, 300], 'max_depth': [4, 6, 8]}\n",
    "  else:\n",
    "    param_distributions = None  \n",
    "  results.append(evaluate_model(model, X_train, X_test, y_train, y_test, param_distributions))\n",
    "\n",
    "\n",
    "print(\"Model Evaluation Results:\")\n",
    "for result in results:\n",
    "  print(f\"{result['model']}: Accuracy - {result['accuracy']:.4f}, Precision - {result['precision']:.4f}, Recall - {result['recall']:.4f}, F1-Score - {result['f1']:.4f}\")\n",
    "\n",
    "\n",
    "best_model = max(results, key=lambda x: x['f1']) \n",
    "\n",
    "print(f\"\\nBest Model: {best_model['model']}\")\n"
   ]
  },
  {
   "cell_type": "markdown",
   "metadata": {},
   "source": [
    "## Linear regression"
   ]
  },
  {
   "cell_type": "code",
   "execution_count": 95,
   "metadata": {},
   "outputs": [
    {
     "name": "stdout",
     "output_type": "stream",
     "text": [
      "0.41296162686121407 0.42974722173441937\n"
     ]
    }
   ],
   "source": [
    "# LinearRegression\n",
    "from sklearn.linear_model import LinearRegression\n",
    "LR = LinearRegression()\n",
    "\n",
    "model = LR.fit(X_train,y_train)\n",
    "pred_LR=LR.predict(X_test)\n",
    "\n",
    "LR_train_score = LR.score(X_train, y_train)\n",
    "LR_val_score = LR.score(X_test, y_test)\n",
    "print(LR_train_score, LR_val_score)"
   ]
  },
  {
   "cell_type": "code",
   "execution_count": 96,
   "metadata": {},
   "outputs": [
    {
     "name": "stdout",
     "output_type": "stream",
     "text": [
      "Accuracy of LinearRegression is =  0.41296162686121407\n",
      "Train R2 Score is =  0.42974722173441937\n",
      "Train Mean Squared Error =  1.651295830875658\n",
      "Train Mean absolute Squared Error =  0.9940458961971702\n"
     ]
    }
   ],
   "source": [
    "print(\"Accuracy of LinearRegression is = \",LR.score(X_train,y_train))\n",
    "LR_r2_score = r2_score(y_test,pred_LR)\n",
    "print(\"Train R2 Score is = \",r2_score(y_test,pred_LR))\n",
    "print(\"Train Mean Squared Error = \",mean_squared_error(y_test,pred_LR))\n",
    "print(\"Train Mean absolute Squared Error = \",mean_absolute_error(y_test,pred_LR))"
   ]
  },
  {
   "cell_type": "markdown",
   "metadata": {},
   "source": [
    "## KNN"
   ]
  },
  {
   "cell_type": "code",
   "execution_count": 97,
   "metadata": {},
   "outputs": [
    {
     "name": "stdout",
     "output_type": "stream",
     "text": [
      "0.7348062912467059 0.6476149783768084\n"
     ]
    }
   ],
   "source": [
    "# Building KNN model\n",
    "knn = KNeighborsRegressor()\n",
    "knn.fit(X_train, y_train)\n",
    "pred_knn=knn.predict(X_test)\n",
    "# Print the R squared scores\n",
    "knn_train_score = knn.score(X_train, y_train)\n",
    "knn_val_score = knn.score(X_test, y_test)\n",
    "print(knn_train_score, knn_val_score)"
   ]
  },
  {
   "cell_type": "code",
   "execution_count": 98,
   "metadata": {},
   "outputs": [
    {
     "name": "stdout",
     "output_type": "stream",
     "text": [
      "Accuracy of LR is =  0.7348062912467059\n",
      "Train R2 Score is =  0.6476149783768084\n",
      "Train Mean Squared Error =  1.0204104903078677\n",
      "Train Mean absolute Squared Error =  0.7199163816039529\n"
     ]
    }
   ],
   "source": [
    "print(\"Accuracy of LR is = \",knn.score(X_train,y_train))\n",
    "knn_r2_score = r2_score(y_test,pred_knn)\n",
    "print(\"Train R2 Score is = \",r2_score(y_test,pred_knn))\n",
    "print(\"Train Mean Squared Error = \",mean_squared_error(y_test,pred_knn))\n",
    "print(\"Train Mean absolute Squared Error = \",mean_absolute_error(y_test,pred_knn))"
   ]
  },
  {
   "cell_type": "markdown",
   "metadata": {},
   "source": [
    "## Decision Tree"
   ]
  },
  {
   "cell_type": "code",
   "execution_count": 99,
   "metadata": {},
   "outputs": [
    {
     "name": "stdout",
     "output_type": "stream",
     "text": [
      "1.0 0.4649974491987451\n"
     ]
    }
   ],
   "source": [
    "#  Decision Tree\n",
    "dt = DecisionTreeRegressor()\n",
    "dt.fit(X_train, y_train)\n",
    "pred_dt=dt.predict(X_test)\n",
    "# Print the R squared scores\n",
    "dt_train_score = dt.score(X_train, y_train)\n",
    "dt_val_score = dt.score(X_test, y_test)\n",
    "print(dt_train_score, dt_val_score)"
   ]
  },
  {
   "cell_type": "code",
   "execution_count": 100,
   "metadata": {},
   "outputs": [
    {
     "name": "stdout",
     "output_type": "stream",
     "text": [
      "Accuracy of Decision Tree is =  1.0\n",
      "Train R2 Score is =  0.4649974491987451\n",
      "Train Mean Squared Error =  1.5492208285822882\n",
      "Train Mean absolute Squared Error =  0.8293424553401748\n"
     ]
    }
   ],
   "source": [
    "print(\"Accuracy of Decision Tree is = \",dt.score(X_train,y_train))\n",
    "dt_r2_score = r2_score(y_test,pred_dt)\n",
    "print(\"Train R2 Score is = \",r2_score(y_test,pred_dt))\n",
    "print(\"Train Mean Squared Error = \",mean_squared_error(y_test,pred_dt))\n",
    "print(\"Train Mean absolute Squared Error = \",mean_absolute_error(y_test,pred_dt))"
   ]
  },
  {
   "cell_type": "markdown",
   "metadata": {},
   "source": [
    "## RF"
   ]
  },
  {
   "cell_type": "code",
   "execution_count": 101,
   "metadata": {},
   "outputs": [
    {
     "name": "stdout",
     "output_type": "stream",
     "text": [
      "0.9610312850437054 0.7399853148206592\n"
     ]
    }
   ],
   "source": [
    "# Random Forest\n",
    "rf = RandomForestRegressor()\n",
    "rf.fit(X_train, y_train)\n",
    "pred_rf=rf.predict(X_test)\n",
    "# Print the R squared scores\n",
    "rf_train_score = rf.score(X_train, y_train)\n",
    "rf_val_score = rf.score(X_test, y_test)\n",
    "print(rf_train_score, rf_val_score)"
   ]
  },
  {
   "cell_type": "code",
   "execution_count": 102,
   "metadata": {},
   "outputs": [
    {
     "name": "stdout",
     "output_type": "stream",
     "text": [
      "Accuracy of Random Forest is =  0.9610312850437054\n",
      "Train R2 Score is =  0.7399853148206592\n",
      "Train Mean Squared Error =  0.752931299885975\n",
      "Train Mean absolute Squared Error =  0.6489718738122388\n"
     ]
    }
   ],
   "source": [
    "print(\"Accuracy of Random Forest is = \",rf.score(X_train,y_train))\n",
    "rf_r2_score = r2_score(y_test,pred_rf)\n",
    "print(\"Train R2 Score is = \",r2_score(y_test,pred_rf))\n",
    "print(\"Train Mean Squared Error = \",mean_squared_error(y_test,pred_rf))\n",
    "print(\"Train Mean absolute Squared Error = \",mean_absolute_error(y_test,pred_rf))"
   ]
  },
  {
   "cell_type": "markdown",
   "metadata": {},
   "source": [
    "## XGB"
   ]
  },
  {
   "cell_type": "code",
   "execution_count": 103,
   "metadata": {},
   "outputs": [
    {
     "name": "stdout",
     "output_type": "stream",
     "text": [
      "0.8557065644675907 0.739707728655963\n"
     ]
    }
   ],
   "source": [
    "# XGboost\n",
    "xgb = XGBRegressor()\n",
    "xgb.fit(X_train, y_train)\n",
    "pred_xgb=xgb.predict(X_test)\n",
    "\n",
    "# Print the R squared scores\n",
    "xgb_train_score = xgb.score(X_train, y_train)\n",
    "xgb_val_score = xgb.score(X_test, y_test)\n",
    "print(xgb_train_score, xgb_val_score)"
   ]
  },
  {
   "cell_type": "code",
   "execution_count": 104,
   "metadata": {},
   "outputs": [
    {
     "name": "stdout",
     "output_type": "stream",
     "text": [
      "Accuracy of  XGboost is =  0.8557065644675907\n",
      "Train R2 Score is =  0.739707728655963\n",
      "Train Mean Squared Error =  0.7537351133770126\n",
      "Train Mean absolute Squared Error =  0.6495013995956614\n"
     ]
    }
   ],
   "source": [
    "print(\"Accuracy of  XGboost is = \",xgb.score(X_train,y_train))\n",
    "xgb_r2_score = r2_score(y_test,pred_xgb)\n",
    "print(\"Train R2 Score is = \",r2_score(y_test,pred_xgb))\n",
    "print(\"Train Mean Squared Error = \",mean_squared_error(y_test,pred_xgb))\n",
    "print(\"Train Mean absolute Squared Error = \",mean_absolute_error(y_test,pred_xgb))"
   ]
  },
  {
   "cell_type": "markdown",
   "metadata": {},
   "source": [
    "## Display result"
   ]
  },
  {
   "cell_type": "code",
   "execution_count": 105,
   "metadata": {},
   "outputs": [
    {
     "data": {
      "text/html": [
       "<div>\n",
       "<style scoped>\n",
       "    .dataframe tbody tr th:only-of-type {\n",
       "        vertical-align: middle;\n",
       "    }\n",
       "\n",
       "    .dataframe tbody tr th {\n",
       "        vertical-align: top;\n",
       "    }\n",
       "\n",
       "    .dataframe thead th {\n",
       "        text-align: right;\n",
       "    }\n",
       "</style>\n",
       "<table border=\"1\" class=\"dataframe\">\n",
       "  <thead>\n",
       "    <tr style=\"text-align: right;\">\n",
       "      <th></th>\n",
       "      <th>train_socres</th>\n",
       "      <th>validation_scores</th>\n",
       "      <th>R2 score</th>\n",
       "    </tr>\n",
       "  </thead>\n",
       "  <tbody>\n",
       "    <tr>\n",
       "      <th>LinearRegression</th>\n",
       "      <td>0.412962</td>\n",
       "      <td>0.429747</td>\n",
       "      <td>0.429747</td>\n",
       "    </tr>\n",
       "    <tr>\n",
       "      <th>KNN</th>\n",
       "      <td>0.734806</td>\n",
       "      <td>0.647615</td>\n",
       "      <td>0.647615</td>\n",
       "    </tr>\n",
       "    <tr>\n",
       "      <th>DecisionTree</th>\n",
       "      <td>1.000000</td>\n",
       "      <td>0.464997</td>\n",
       "      <td>0.464997</td>\n",
       "    </tr>\n",
       "    <tr>\n",
       "      <th>RandomForest</th>\n",
       "      <td>0.961031</td>\n",
       "      <td>0.739985</td>\n",
       "      <td>0.739985</td>\n",
       "    </tr>\n",
       "    <tr>\n",
       "      <th>XGBoost</th>\n",
       "      <td>0.855707</td>\n",
       "      <td>0.739708</td>\n",
       "      <td>0.739708</td>\n",
       "    </tr>\n",
       "  </tbody>\n",
       "</table>\n",
       "</div>"
      ],
      "text/plain": [
       "                  train_socres  validation_scores  R2 score\n",
       "LinearRegression      0.412962           0.429747  0.429747\n",
       "KNN                   0.734806           0.647615  0.647615\n",
       "DecisionTree          1.000000           0.464997  0.464997\n",
       "RandomForest          0.961031           0.739985  0.739985\n",
       "XGBoost               0.855707           0.739708  0.739708"
      ]
     },
     "execution_count": 105,
     "metadata": {},
     "output_type": "execute_result"
    }
   ],
   "source": [
    "# Displaying the results\n",
    "model_results_arr = {'train_socres' : [LR_train_score,knn_train_score, dt_train_score, rf_train_score, xgb_train_score],\n",
    "                     'validation_scores' : [LR_val_score,knn_val_score, dt_val_score, rf_val_score, xgb_val_score],\n",
    "                    'R2 score' : [LR_r2_score,knn_r2_score, dt_r2_score, rf_r2_score, xgb_r2_score]\n",
    "                    }\n",
    "results_df = pd.DataFrame(model_results_arr, index=['LinearRegression','KNN', 'DecisionTree', 'RandomForest', 'XGBoost'])\n",
    "results_df"
   ]
  },
  {
   "cell_type": "code",
   "execution_count": 106,
   "metadata": {},
   "outputs": [],
   "source": [
    "# From the R2 scores, we can see that Random Forest and XGBoost have the highest R2 scores \n",
    "# of 0.737114 and 0.739708, respectively. Therefore, both Random Forest and XGBoost models \n",
    "# are performing well in terms of fitting the data."
   ]
  },
  {
   "cell_type": "markdown",
   "metadata": {},
   "source": [
    "# Model Pickle"
   ]
  },
  {
   "cell_type": "code",
   "execution_count": 107,
   "metadata": {},
   "outputs": [],
   "source": [
    "# final_model = xgb\n",
    "# with open('final_model_XGboost_himanshu', 'wb') as files:\n",
    "#     pickle.dump(final_model, files)"
   ]
  }
 ],
 "metadata": {
  "kernelspec": {
   "display_name": "venv",
   "language": "python",
   "name": "python3"
  },
  "language_info": {
   "codemirror_mode": {
    "name": "ipython",
    "version": 3
   },
   "file_extension": ".py",
   "mimetype": "text/x-python",
   "name": "python",
   "nbconvert_exporter": "python",
   "pygments_lexer": "ipython3",
   "version": "3.10.11"
  }
 },
 "nbformat": 4,
 "nbformat_minor": 2
}
